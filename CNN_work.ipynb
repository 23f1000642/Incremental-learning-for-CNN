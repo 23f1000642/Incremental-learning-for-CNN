{
  "cells": [
    {
      "cell_type": "markdown",
      "metadata": {
        "id": "view-in-github",
        "colab_type": "text"
      },
      "source": [
        "<a href=\"https://colab.research.google.com/github/23f1000642/Incremental-learning-for-CNN/blob/main/CNN_work.ipynb\" target=\"_parent\"><img src=\"https://colab.research.google.com/assets/colab-badge.svg\" alt=\"Open In Colab\"/></a>"
      ]
    },
    {
      "cell_type": "markdown",
      "metadata": {
        "id": "_fEdcavYJRxk"
      },
      "source": [
        "Importing libraries"
      ]
    },
    {
      "cell_type": "code",
      "execution_count": null,
      "metadata": {
        "id": "4VKPvUkcGIHv"
      },
      "outputs": [],
      "source": [
        "import torch\n",
        "import torch.nn as nn\n",
        "import torch.optim as optim\n",
        "import torch.nn.functional as F"
      ]
    },
    {
      "cell_type": "code",
      "execution_count": null,
      "metadata": {
        "id": "g4xfk-VDKJCG"
      },
      "outputs": [],
      "source": [
        "import torchvision\n",
        "from torchvision import  datasets, transforms\n",
        "import matplotlib.pyplot as plt\n",
        "from torch.utils.data import DataLoader\n",
        "import copy"
      ]
    },
    {
      "cell_type": "code",
      "execution_count": null,
      "metadata": {
        "id": "X17o39RYKyE1"
      },
      "outputs": [],
      "source": [
        "from torch.utils.data import DataLoader"
      ]
    },
    {
      "cell_type": "code",
      "execution_count": null,
      "metadata": {
        "id": "O_n0g4CYLQ4S",
        "colab": {
          "base_uri": "https://localhost:8080/"
        },
        "outputId": "0f0ac08d-8383-4303-914f-47283cf724de"
      },
      "outputs": [
        {
          "output_type": "stream",
          "name": "stderr",
          "text": [
            "100%|██████████| 26.4M/26.4M [00:01<00:00, 18.9MB/s]\n",
            "100%|██████████| 29.5k/29.5k [00:00<00:00, 300kB/s]\n",
            "100%|██████████| 4.42M/4.42M [00:00<00:00, 5.54MB/s]\n",
            "100%|██████████| 5.15k/5.15k [00:00<00:00, 8.59MB/s]\n"
          ]
        }
      ],
      "source": [
        "train_data = datasets.FashionMNIST('.data',train = True, download= True)"
      ]
    },
    {
      "cell_type": "code",
      "execution_count": null,
      "metadata": {
        "id": "KMTC32hMMIIp",
        "colab": {
          "base_uri": "https://localhost:8080/"
        },
        "outputId": "539db7c6-c0f0-4bc4-fdfc-17c7b0884648"
      },
      "outputs": [
        {
          "output_type": "execute_result",
          "data": {
            "text/plain": [
              "60000"
            ]
          },
          "metadata": {},
          "execution_count": 5
        }
      ],
      "source": [
        "len(train_data)"
      ]
    },
    {
      "cell_type": "code",
      "execution_count": null,
      "metadata": {
        "id": "iHFjUbN0MdZP",
        "colab": {
          "base_uri": "https://localhost:8080/"
        },
        "outputId": "5779c627-3736-4440-ea02-fe4b2e16cad2"
      },
      "outputs": [
        {
          "output_type": "stream",
          "name": "stdout",
          "text": [
            "Shape: torch.Size([60000, 28, 28])\n",
            "Target: torch.Size([60000]) tensor([9, 0, 0,  ..., 3, 0, 5])\n",
            "Classes: ['T-shirt/top', 'Trouser', 'Pullover', 'Dress', 'Coat', 'Sandal', 'Shirt', 'Sneaker', 'Bag', 'Ankle boot']\n",
            "Class to idx: {'T-shirt/top': 0, 'Trouser': 1, 'Pullover': 2, 'Dress': 3, 'Coat': 4, 'Sandal': 5, 'Shirt': 6, 'Sneaker': 7, 'Bag': 8, 'Ankle boot': 9}\n"
          ]
        }
      ],
      "source": [
        "# help(datasets.FashionMNIST)\n",
        "print(\"Shape:\",train_data.data.shape)\n",
        "print(\"Target:\",train_data.targets.shape, train_data.targets)\n",
        "print(\"Classes:\",train_data.classes)\n",
        "print(\"Class to idx:\", train_data.class_to_idx)"
      ]
    },
    {
      "cell_type": "code",
      "execution_count": null,
      "metadata": {
        "id": "Ua5_xWwOM7Cn",
        "colab": {
          "base_uri": "https://localhost:8080/",
          "height": 45
        },
        "outputId": "1bc603b5-d853-4996-cff0-726f507af266"
      },
      "outputs": [
        {
          "output_type": "execute_result",
          "data": {
            "text/plain": [
              "<PIL.Image.Image image mode=L size=28x28>"
            ],
            "image/png": "[encoded data removed]",
            "image/jpeg": "[encoded data removed]"
          },
          "metadata": {},
          "execution_count": 7
        }
      ],
      "source": [
        "train_data[0][0]"
      ]
    },
    {
      "cell_type": "code",
      "execution_count": null,
      "metadata": {
        "id": "CRXHUpfnOgtU",
        "colab": {
          "base_uri": "https://localhost:8080/",
          "height": 447
        },
        "outputId": "4aeb482b-f150-4f9b-8d7d-bfc7fa142b95"
      },
      "outputs": [
        {
          "output_type": "execute_result",
          "data": {
            "text/plain": [
              "<matplotlib.image.AxesImage at 0x7b28a29f9910>"
            ]
          },
          "metadata": {},
          "execution_count": 8
        },
        {
          "output_type": "display_data",
          "data": {
            "text/plain": [
              "<Figure size 640x480 with 1 Axes>"
            ],
            "image/png": "[encoded data removed]"
          },
          "metadata": {}
        }
      ],
      "source": [
        "plt.imshow(train_data[0][0])"
      ]
    },
    {
      "cell_type": "code",
      "execution_count": null,
      "metadata": {
        "id": "xdCE8DAhP3Ma"
      },
      "outputs": [],
      "source": []
    },
    {
      "cell_type": "code",
      "execution_count": null,
      "metadata": {
        "id": "7sIM0lb2Os9P"
      },
      "outputs": [],
      "source": [
        "# dir(transforms)"
      ]
    },
    {
      "cell_type": "code",
      "execution_count": null,
      "metadata": {
        "id": "5LeEVjioPT8_",
        "colab": {
          "base_uri": "https://localhost:8080/"
        },
        "outputId": "08a6c142-1474-4614-aac5-5b845f66284f"
      },
      "outputs": [
        {
          "output_type": "execute_result",
          "data": {
            "text/plain": [
              "torch.Size([60000, 28, 28])"
            ]
          },
          "metadata": {},
          "execution_count": 10
        }
      ],
      "source": [
        "train_data.data.shape"
      ]
    },
    {
      "cell_type": "markdown",
      "metadata": {
        "id": "Nv-kPW32QC49"
      },
      "source": [
        "Normalizing them so that the pixel values are in scale"
      ]
    },
    {
      "cell_type": "code",
      "execution_count": null,
      "metadata": {
        "id": "0CEaB5bqPsQn"
      },
      "outputs": [],
      "source": [
        "transform  = transforms.ToTensor()\n",
        "# pipeline = first run transform 1, then run transform 2 , transform 3\n",
        "transform1 = transforms.Compose((transforms.ToTensor(),transforms.Normalize((0.5),(0.5))))"
      ]
    },
    {
      "cell_type": "code",
      "execution_count": null,
      "metadata": {
        "id": "DiGHhrNCQ8xG",
        "colab": {
          "base_uri": "https://localhost:8080/"
        },
        "outputId": "cdf9d7b1-fe47-436e-a22f-62f6a1d9a4e0"
      },
      "outputs": [
        {
          "output_type": "execute_result",
          "data": {
            "text/plain": [
              "torch.Tensor"
            ]
          },
          "metadata": {},
          "execution_count": 12
        }
      ],
      "source": [
        "type (train_data.data[0])"
      ]
    },
    {
      "cell_type": "code",
      "execution_count": null,
      "metadata": {
        "id": "EeEDHvq5NprM"
      },
      "outputs": [],
      "source": [
        "train_data = datasets.FashionMNIST('.data', train = True, transform = transform1)\n"
      ]
    },
    {
      "cell_type": "markdown",
      "metadata": {
        "id": "t52c481NzBeK"
      },
      "source": [
        "Load data"
      ]
    },
    {
      "cell_type": "code",
      "execution_count": null,
      "metadata": {
        "id": "udJXht5fyv3N"
      },
      "outputs": [],
      "source": [
        "train_iter = DataLoader(train_data,batch_size = 100,shuffle = True)"
      ]
    },
    {
      "cell_type": "code",
      "execution_count": null,
      "metadata": {
        "id": "-lB1lAY-zWgJ",
        "colab": {
          "base_uri": "https://localhost:8080/",
          "height": 272
        },
        "outputId": "ddfc6fc9-6f00-4f15-e814-d384ec1c691b"
      },
      "outputs": [
        {
          "output_type": "execute_result",
          "data": {
            "text/plain": [
              "torch.utils.data.dataloader.DataLoader"
            ],
            "text/html": [
              "<div style=\"max-width:800px; border: 1px solid var(--colab-border-color);\"><style>\n",
              "      pre.function-repr-contents {\n",
              "        overflow-x: auto;\n",
              "        padding: 8px 12px;\n",
              "        max-height: 500px;\n",
              "      }\n",
              "\n",
              "      pre.function-repr-contents.function-repr-contents-collapsed {\n",
              "        cursor: pointer;\n",
              "        max-height: 100px;\n",
              "      }\n",
              "    </style>\n",
              "    <pre style=\"white-space: initial; background:\n",
              "         var(--colab-secondary-surface-color); padding: 8px 12px;\n",
              "         border-bottom: 1px solid var(--colab-border-color);\"><b>torch.utils.data.dataloader.DataLoader</b><br/>def __init__(dataset: Dataset[_T_co], batch_size: Optional[int]=1, shuffle: Optional[bool]=None, sampler: Union[Sampler, Iterable, None]=None, batch_sampler: Union[Sampler[List], Iterable[List], None]=None, num_workers: int=0, collate_fn: Optional[_collate_fn_t]=None, pin_memory: bool=False, drop_last: bool=False, timeout: float=0, worker_init_fn: Optional[_worker_init_fn_t]=None, multiprocessing_context=None, generator=None, *, prefetch_factor: Optional[int]=None, persistent_workers: bool=False, pin_memory_device: str=&#x27;&#x27;, in_order: bool=True)</pre><pre class=\"function-repr-contents function-repr-contents-collapsed\" style=\"\"><a class=\"filepath\" style=\"display:none\" href=\"#\">/usr/local/lib/python3.11/dist-packages/torch/utils/data/dataloader.py</a>Data loader combines a dataset and a sampler, and provides an iterable over the given dataset.\n",
              "\n",
              "The :class:`~torch.utils.data.DataLoader` supports both map-style and\n",
              "iterable-style datasets with single- or multi-process loading, customizing\n",
              "loading order and optional automatic batching (collation) and memory pinning.\n",
              "\n",
              "See :py:mod:`torch.utils.data` documentation page for more details.\n",
              "\n",
              "Args:\n",
              "    dataset (Dataset): dataset from which to load the data.\n",
              "    batch_size (int, optional): how many samples per batch to load\n",
              "        (default: ``1``).\n",
              "    shuffle (bool, optional): set to ``True`` to have the data reshuffled\n",
              "        at every epoch (default: ``False``).\n",
              "    sampler (Sampler or Iterable, optional): defines the strategy to draw\n",
              "        samples from the dataset. Can be any ``Iterable`` with ``__len__``\n",
              "        implemented. If specified, :attr:`shuffle` must not be specified.\n",
              "    batch_sampler (Sampler or Iterable, optional): like :attr:`sampler`, but\n",
              "        returns a batch of indices at a time. Mutually exclusive with\n",
              "        :attr:`batch_size`, :attr:`shuffle`, :attr:`sampler`,\n",
              "        and :attr:`drop_last`.\n",
              "    num_workers (int, optional): how many subprocesses to use for data\n",
              "        loading. ``0`` means that the data will be loaded in the main process.\n",
              "        (default: ``0``)\n",
              "    collate_fn (Callable, optional): merges a list of samples to form a\n",
              "        mini-batch of Tensor(s).  Used when using batched loading from a\n",
              "        map-style dataset.\n",
              "    pin_memory (bool, optional): If ``True``, the data loader will copy Tensors\n",
              "        into device/CUDA pinned memory before returning them.  If your data elements\n",
              "        are a custom type, or your :attr:`collate_fn` returns a batch that is a custom type,\n",
              "        see the example below.\n",
              "    drop_last (bool, optional): set to ``True`` to drop the last incomplete batch,\n",
              "        if the dataset size is not divisible by the batch size. If ``False`` and\n",
              "        the size of dataset is not divisible by the batch size, then the last batch\n",
              "        will be smaller. (default: ``False``)\n",
              "    timeout (numeric, optional): if positive, the timeout value for collecting a batch\n",
              "        from workers. Should always be non-negative. (default: ``0``)\n",
              "    worker_init_fn (Callable, optional): If not ``None``, this will be called on each\n",
              "        worker subprocess with the worker id (an int in ``[0, num_workers - 1]``) as\n",
              "        input, after seeding and before data loading. (default: ``None``)\n",
              "    multiprocessing_context (str or multiprocessing.context.BaseContext, optional): If\n",
              "        ``None``, the default `multiprocessing context`_ of your operating system will\n",
              "        be used. (default: ``None``)\n",
              "    generator (torch.Generator, optional): If not ``None``, this RNG will be used\n",
              "        by RandomSampler to generate random indexes and multiprocessing to generate\n",
              "        ``base_seed`` for workers. (default: ``None``)\n",
              "    prefetch_factor (int, optional, keyword-only arg): Number of batches loaded\n",
              "        in advance by each worker. ``2`` means there will be a total of\n",
              "        2 * num_workers batches prefetched across all workers. (default value depends\n",
              "        on the set value for num_workers. If value of num_workers=0 default is ``None``.\n",
              "        Otherwise, if value of ``num_workers &gt; 0`` default is ``2``).\n",
              "    persistent_workers (bool, optional): If ``True``, the data loader will not shut down\n",
              "        the worker processes after a dataset has been consumed once. This allows to\n",
              "        maintain the workers `Dataset` instances alive. (default: ``False``)\n",
              "    pin_memory_device (str, optional): the device to :attr:`pin_memory` to if ``pin_memory`` is\n",
              "        ``True``.\n",
              "    in_order (bool, optional): If ``False``, the data loader will not enforce that batches\n",
              "        are returned in a first-in, first-out order. Only applies when ``num_workers &gt; 0``. (default: ``True``)\n",
              "\n",
              "\n",
              ".. warning:: If the ``spawn`` start method is used, :attr:`worker_init_fn`\n",
              "             cannot be an unpicklable object, e.g., a lambda function. See\n",
              "             :ref:`multiprocessing-best-practices` on more details related\n",
              "             to multiprocessing in PyTorch.\n",
              "\n",
              ".. warning:: ``len(dataloader)`` heuristic is based on the length of the sampler used.\n",
              "             When :attr:`dataset` is an :class:`~torch.utils.data.IterableDataset`,\n",
              "             it instead returns an estimate based on ``len(dataset) / batch_size``, with proper\n",
              "             rounding depending on :attr:`drop_last`, regardless of multi-process loading\n",
              "             configurations. This represents the best guess PyTorch can make because PyTorch\n",
              "             trusts user :attr:`dataset` code in correctly handling multi-process\n",
              "             loading to avoid duplicate data.\n",
              "\n",
              "             However, if sharding results in multiple workers having incomplete last batches,\n",
              "             this estimate can still be inaccurate, because (1) an otherwise complete batch can\n",
              "             be broken into multiple ones and (2) more than one batch worth of samples can be\n",
              "             dropped when :attr:`drop_last` is set. Unfortunately, PyTorch can not detect such\n",
              "             cases in general.\n",
              "\n",
              "             See `Dataset Types`_ for more details on these two types of datasets and how\n",
              "             :class:`~torch.utils.data.IterableDataset` interacts with\n",
              "             `Multi-process data loading`_.\n",
              "\n",
              ".. warning:: See :ref:`reproducibility`, and :ref:`dataloader-workers-random-seed`, and\n",
              "             :ref:`data-loading-randomness` notes for random seed related questions.\n",
              "\n",
              ".. warning:: Setting `in_order` to `False` can harm reproducibility and may lead to a skewed data\n",
              "             distribution being fed to the trainer in cases with imbalanced data.\n",
              "\n",
              ".. _multiprocessing context:\n",
              "    https://docs.python.org/3/library/multiprocessing.html#contexts-and-start-methods</pre>\n",
              "      <script>\n",
              "      if (google.colab.kernel.accessAllowed && google.colab.files && google.colab.files.view) {\n",
              "        for (const element of document.querySelectorAll('.filepath')) {\n",
              "          element.style.display = 'block'\n",
              "          element.onclick = (event) => {\n",
              "            event.preventDefault();\n",
              "            event.stopPropagation();\n",
              "            google.colab.files.view(element.textContent, 130);\n",
              "          };\n",
              "        }\n",
              "      }\n",
              "      for (const element of document.querySelectorAll('.function-repr-contents')) {\n",
              "        element.onclick = (event) => {\n",
              "          event.preventDefault();\n",
              "          event.stopPropagation();\n",
              "          element.classList.toggle('function-repr-contents-collapsed');\n",
              "        };\n",
              "      }\n",
              "      </script>\n",
              "      </div>"
            ]
          },
          "metadata": {},
          "execution_count": 15
        }
      ],
      "source": [
        "type(train_iter)"
      ]
    },
    {
      "cell_type": "code",
      "execution_count": null,
      "metadata": {
        "id": "PIXKoroCzjpo",
        "colab": {
          "base_uri": "https://localhost:8080/"
        },
        "outputId": "a9511813-211e-4f2b-abae-c46866f22ed3"
      },
      "outputs": [
        {
          "output_type": "stream",
          "name": "stdout",
          "text": [
            "tensor([9, 7, 4, 8, 6, 3, 2, 5, 3, 5, 3, 2, 3, 6, 4, 8, 2, 8, 9, 7, 9, 3, 5, 8,\n",
            "        4, 9, 8, 8, 2, 6, 7, 3, 0, 4, 3, 0, 9, 3, 4, 9, 6, 6, 5, 4, 3, 7, 4, 7,\n",
            "        6, 2, 8, 6, 6, 7, 2, 7, 0, 5, 7, 6, 3, 8, 6, 4, 5, 8, 3, 1, 0, 6, 2, 1,\n",
            "        2, 6, 2, 2, 6, 8, 4, 5, 2, 7, 2, 0, 2, 1, 9, 9, 0, 7, 8, 4, 9, 3, 6, 5,\n",
            "        0, 8, 3, 3])\n"
          ]
        }
      ],
      "source": [
        "for features, labels in train_iter:\n",
        "  print(labels)\n",
        "  break"
      ]
    },
    {
      "cell_type": "code",
      "execution_count": null,
      "metadata": {
        "id": "SYiGfb2u16wp"
      },
      "outputs": [],
      "source": [
        "# nn.Linear()\n"
      ]
    },
    {
      "cell_type": "code",
      "execution_count": null,
      "metadata": {
        "id": "mg9_KUZgPuRk"
      },
      "outputs": [],
      "source": [
        "iterator = iter(train_iter)\n",
        "\n"
      ]
    },
    {
      "cell_type": "code",
      "execution_count": null,
      "metadata": {
        "id": "6g_ls06VQA9h"
      },
      "outputs": [],
      "source": [
        "feat, lab = next (iterator)"
      ]
    },
    {
      "cell_type": "code",
      "execution_count": null,
      "metadata": {
        "id": "ib1SVYm4QLvR"
      },
      "outputs": [],
      "source": [
        "x = feat[0]"
      ]
    },
    {
      "cell_type": "code",
      "execution_count": null,
      "metadata": {
        "id": "XCEhf4PAQTvl",
        "colab": {
          "base_uri": "https://localhost:8080/"
        },
        "outputId": "d9c0d654-b651-4e8e-8c27-5d961c6b7a2f"
      },
      "outputs": [
        {
          "output_type": "execute_result",
          "data": {
            "text/plain": [
              "torch.Size([1, 28, 28])"
            ]
          },
          "metadata": {},
          "execution_count": 21
        }
      ],
      "source": [
        "x.shape"
      ]
    },
    {
      "cell_type": "markdown",
      "metadata": {
        "id": "otQKXOrBQ3i6"
      },
      "source": [
        "# CNN\n"
      ]
    },
    {
      "cell_type": "code",
      "execution_count": null,
      "metadata": {
        "id": "RvV4_lnYQWZy"
      },
      "outputs": [],
      "source": [
        "conv = nn.Conv2d(1,6,5)"
      ]
    },
    {
      "cell_type": "code",
      "execution_count": null,
      "metadata": {
        "id": "_S3bRwvmR5cU",
        "colab": {
          "base_uri": "https://localhost:8080/"
        },
        "outputId": "84618ecf-6271-4657-df50-1fd292846b69"
      },
      "outputs": [
        {
          "output_type": "execute_result",
          "data": {
            "text/plain": [
              "torch.Size([6, 1, 5, 5])"
            ]
          },
          "metadata": {},
          "execution_count": 23
        }
      ],
      "source": [
        "conv.weight.shape     # these are the weight parameter tensors"
      ]
    },
    {
      "cell_type": "code",
      "execution_count": null,
      "metadata": {
        "id": "1PCTyoP0SG6D"
      },
      "outputs": [],
      "source": [
        "x1 = conv(x)"
      ]
    },
    {
      "cell_type": "code",
      "execution_count": null,
      "metadata": {
        "id": "SQz_-ujuSPdK",
        "colab": {
          "base_uri": "https://localhost:8080/"
        },
        "outputId": "2b2096ca-7e05-4aff-83f6-209c38ce4d5c"
      },
      "outputs": [
        {
          "output_type": "execute_result",
          "data": {
            "text/plain": [
              "torch.Size([6, 24, 24])"
            ]
          },
          "metadata": {},
          "execution_count": 25
        }
      ],
      "source": [
        "x1.shape"
      ]
    },
    {
      "cell_type": "code",
      "execution_count": null,
      "metadata": {
        "id": "wsJBJcpBSRC7"
      },
      "outputs": [],
      "source": [
        "pooling = nn.MaxPool2d(2,2)"
      ]
    },
    {
      "cell_type": "code",
      "execution_count": null,
      "metadata": {
        "id": "ic_H7Tn4Tf6D",
        "colab": {
          "base_uri": "https://localhost:8080/"
        },
        "outputId": "b64a8c01-fa49-4a47-92c6-2c9bc95eba65"
      },
      "outputs": [
        {
          "output_type": "execute_result",
          "data": {
            "text/plain": [
              "torch.Size([6, 12, 12])"
            ]
          },
          "metadata": {},
          "execution_count": 27
        }
      ],
      "source": [
        "x2 = pooling(x1)\n",
        "x2.shape"
      ]
    },
    {
      "cell_type": "code",
      "execution_count": null,
      "metadata": {
        "id": "g6B0EvWc3hjG",
        "colab": {
          "base_uri": "https://localhost:8080/"
        },
        "outputId": "df5ec782-4849-44a3-b20c-4e51fbcd7b6c"
      },
      "outputs": [
        {
          "output_type": "execute_result",
          "data": {
            "text/plain": [
              "torch.Size([6, 4, 4])"
            ]
          },
          "metadata": {},
          "execution_count": 28
        }
      ],
      "source": [
        "## simply coding each step in CNN sequentially\n",
        "x = feat[0]\n",
        "x = nn.Conv2d(1, 6, 5)(x)\n",
        "x = nn.MaxPool2d(2, 2)(x)\n",
        "x = nn.Conv2d(6, 6, 5)(x)\n",
        "x = nn.MaxPool2d(2, 2)(x)\n",
        "x.shape"
      ]
    },
    {
      "cell_type": "code",
      "execution_count": null,
      "metadata": {
        "id": "EAQEbOR23mTN",
        "colab": {
          "base_uri": "https://localhost:8080/"
        },
        "outputId": "b49f88af-0caf-4cc5-a93b-cf603d83c9b0"
      },
      "outputs": [
        {
          "output_type": "execute_result",
          "data": {
            "text/plain": [
              "tensor([[[0.5426, 0.5200, 0.4693, 0.4166],\n",
              "         [0.3276, 0.3198, 0.3515, 0.2754],\n",
              "         [0.5301, 0.4914, 0.6053, 0.6179],\n",
              "         [0.6699, 0.7153, 0.6615, 0.7438]],\n",
              "\n",
              "        [[0.1099, 0.0502, 0.0866, 0.1011],\n",
              "         [0.0000, 0.0000, 0.0000, 0.0000],\n",
              "         [0.0508, 0.1857, 0.1759, 0.2056],\n",
              "         [0.5316, 0.4339, 0.4040, 0.3864]],\n",
              "\n",
              "        [[0.3295, 0.3358, 0.3689, 0.4476],\n",
              "         [0.2096, 0.1924, 0.2126, 0.3987],\n",
              "         [0.0000, 0.0000, 0.0000, 0.0295],\n",
              "         [0.0211, 0.0341, 0.0587, 0.0240]],\n",
              "\n",
              "        [[0.0000, 0.1073, 0.0699, 0.0000],\n",
              "         [0.1261, 0.1535, 0.2112, 0.3389],\n",
              "         [0.0684, 0.0862, 0.0637, 0.1663],\n",
              "         [0.0000, 0.0000, 0.0000, 0.0000]],\n",
              "\n",
              "        [[0.3218, 0.4180, 0.4595, 0.5492],\n",
              "         [0.4336, 0.4633, 0.4342, 0.5753],\n",
              "         [0.2365, 0.1725, 0.0000, 0.0000],\n",
              "         [0.0000, 0.0000, 0.0000, 0.0000]],\n",
              "\n",
              "        [[0.3599, 0.3909, 0.3894, 0.3383],\n",
              "         [0.3234, 0.2388, 0.0832, 0.1855],\n",
              "         [0.0332, 0.0000, 0.0115, 0.0000],\n",
              "         [0.2196, 0.2283, 0.2608, 0.2021]]], grad_fn=<ReluBackward0>)"
            ]
          },
          "metadata": {},
          "execution_count": 29
        }
      ],
      "source": [
        "F.relu(x)"
      ]
    },
    {
      "cell_type": "markdown",
      "metadata": {
        "id": "RrLhf6M1UDmQ"
      },
      "source": [
        "Define CNN model"
      ]
    },
    {
      "cell_type": "code",
      "execution_count": null,
      "metadata": {
        "id": "NsfSZDA6TpKj"
      },
      "outputs": [],
      "source": [
        "class CNN(nn.Module):\n",
        "  def __init__(self):\n",
        "    super(CNN,self).__init__()\n",
        "\n",
        "    self.fc1 = nn.Linear(6*4*4, 80)\n",
        "    self.fc2 = nn.Linear(80,20)\n",
        "    self.fc3 = nn.Linear(20,10)\n",
        "\n",
        "    #in_channels = 1 , out_channnels = 6 , kernal_size = 5\n",
        "\n",
        "    self.conv1 = nn.Conv2d(1,6,5)\n",
        "     # applying the max pooling with a kernal size 2\n",
        "    self.pool = nn.MaxPool2d(2,2)\n",
        "    self.conv2 = nn.Conv2d(6,6,5)\n",
        "\n",
        "    #THESE ABOVE ARE THE COMPONENTS OF YOUR MODERL\n",
        "# FWD PASS WILL DEFINE THE ARCHITECTURE OF YOUR MODEL\n",
        "  def forward(self,x):\n",
        "    x = self.conv1(x)     ## 6 x 24 x 24\n",
        "    x = F.relu(x)        ## 6 x 24 x 24\n",
        "    x = self.pool(x)     ## 6 x 12 x 12\n",
        "    x = self.conv2(x)     ## 6 x 8 x 8\n",
        "    x = F.relu(x)        ## 6 x 8 x 8\n",
        "    x = self.pool(x)     ## 6 x 4 x4\n",
        "    x = x.view(-1,6*4*4)  ## x.flatten()  x.Flatten()\n",
        "    x = self.fc1(x)       ## 1 x80\n",
        "    x = F.relu(x)          ## 1 x80\n",
        "    x = self.fc2(x)       ## 1x 20\n",
        "    x = self.fc3(x)      ## 1x 20\n",
        "\n",
        "    return x\n"
      ]
    },
    {
      "cell_type": "code",
      "execution_count": null,
      "metadata": {
        "id": "FL_QmOoWwKeK"
      },
      "outputs": [],
      "source": [
        "Model = CNN()"
      ]
    },
    {
      "cell_type": "code",
      "execution_count": null,
      "metadata": {
        "id": "5WdFFLLTx08u"
      },
      "outputs": [],
      "source": [
        "x = feat[0]"
      ]
    },
    {
      "cell_type": "code",
      "execution_count": null,
      "metadata": {
        "id": "8_zzsSpzynuX"
      },
      "outputs": [],
      "source": [
        " x =  Model(x)"
      ]
    },
    {
      "cell_type": "code",
      "execution_count": null,
      "metadata": {
        "id": "OM-nf2EI8_zr",
        "colab": {
          "base_uri": "https://localhost:8080/"
        },
        "outputId": "673d4c7c-68fc-467e-e7db-c575143614e4"
      },
      "outputs": [
        {
          "output_type": "execute_result",
          "data": {
            "text/plain": [
              "torch.Size([1, 10])"
            ]
          },
          "metadata": {},
          "execution_count": 35
        }
      ],
      "source": [
        "x.shape"
      ]
    },
    {
      "cell_type": "markdown",
      "metadata": {
        "id": "TLey-9Niy9jM"
      },
      "source": [
        "Training"
      ]
    },
    {
      "cell_type": "code",
      "execution_count": null,
      "metadata": {
        "id": "WxnSAqMYx7gH"
      },
      "outputs": [],
      "source": [
        "# CROSS ENTROPY LOSS = SOFTMAX + CROSSS ENTROPPY LOSS\n",
        "\n",
        "Loss = nn.CrossEntropyLoss()\n",
        "optimizer = optim.SGD(Model.parameters(),lr = 0.1 , momentum = 0.9)"
      ]
    },
    {
      "cell_type": "code",
      "execution_count": null,
      "metadata": {
        "id": "agNToAZvyB1f"
      },
      "outputs": [],
      "source": [
        "#  1 EPOCH = PASS THROUGH ENTIRE DATA SET"
      ]
    },
    {
      "cell_type": "markdown",
      "metadata": {
        "id": "cnpBSo7J3LPH"
      },
      "source": [
        "total points = 60000\n",
        "\n",
        "batch size = 100\n",
        "\n",
        "total batches = 600"
      ]
    },
    {
      "cell_type": "code",
      "execution_count": null,
      "metadata": {
        "colab": {
          "base_uri": "https://localhost:8080/"
        },
        "id": "kQU3hZC90aJ_",
        "outputId": "4ab51400-bca3-4d80-8521-36ac23bf3184"
      },
      "outputs": [
        {
          "output_type": "stream",
          "name": "stdout",
          "text": [
            "Accuracy:  tensor(0.8143)\n",
            "Accuracy:  tensor(0.8292)\n",
            "Accuracy:  tensor(0.8330)\n"
          ]
        }
      ],
      "source": [
        "for epoch in range(3):\n",
        "  ## HERE EPOCH STARTS -- so refresh all your counters\n",
        "  total_correct_pts = 0\n",
        "\n",
        "  for features, labels in train_iter:   ## will run for 600 batches\n",
        "\n",
        "    optimizer.zero_grad()   ## in order to remove any previous gradient info\n",
        "\n",
        "    output = Model(features)  ## forward pass     100x10 max along dim=1\n",
        "\n",
        "    ls = Loss(output, labels)   ## compute loss\n",
        "\n",
        "    ls.backward()   ## back propagate the loss\n",
        "\n",
        "    optimizer.step()  ## update the parameters\n",
        "\n",
        "    corr = torch.argmax(output, axis = 1) == torch.as_tensor(labels)\n",
        "\n",
        "    total_correct = torch.count_nonzero(corr)\n",
        "    total_correct_pts += total_correct\n",
        "\n",
        "  print(\"Accuracy: \", total_correct_pts/60000)\n",
        "\n",
        "\n",
        "\n"
      ]
    },
    {
      "cell_type": "markdown",
      "source": [
        "## Analyzing the  Model's Performance usingg incremental learning\n"
      ],
      "metadata": {
        "id": "VQyrGCRWytjA"
      }
    },
    {
      "cell_type": "markdown",
      "source": [
        "#### spliting the dataset into task 1 and task 2"
      ],
      "metadata": {
        "id": "SN-R_V06OLLm"
      }
    },
    {
      "cell_type": "code",
      "source": [],
      "metadata": {
        "id": "MUQBeJk-OKoq"
      },
      "execution_count": null,
      "outputs": []
    },
    {
      "cell_type": "code",
      "source": [
        "\n",
        "# Split MNIST dataset into Task 1 (digits 0-4) and Task 2 (digits 5-9)\n",
        "def split_mnist():\n",
        "    transform = transforms.Compose([\n",
        "        transforms.ToTensor(),\n",
        "        transforms.Normalize((0.5,), (0.5,))\n",
        "    ])\n",
        "\n",
        "    mnist_dataset = datasets.MNIST(root=\"./data\", train=True, transform=transform, download=True)\n",
        "\n",
        "    # Split data\n",
        "    task1_data = [(img, label) for img, label in mnist_dataset if label < 5]\n",
        "    task2_data = [(img, label) for img, label in mnist_dataset if label >= 5]\n",
        "# task1_test_dataset = Subset(mnist_test, task1_indices)\n",
        "    # Create DataLoaders\n",
        "    task1_loader = DataLoader(task1_data, batch_size=100, shuffle=True)\n",
        "    task2_loader = DataLoader(task2_data, batch_size=100, shuffle=True)\n",
        "    return task1_loader, task2_loader\n",
        "\n",
        "# Create DataLoaders\n",
        "train_iter_task1, train_iter_task2 = split_mnist()\n"
      ],
      "metadata": {
        "id": "1qqW3vog72cf",
        "colab": {
          "base_uri": "https://localhost:8080/"
        },
        "outputId": "4e630a7d-2969-48bf-d5f8-d5693716ce5c"
      },
      "execution_count": null,
      "outputs": [
        {
          "output_type": "stream",
          "name": "stderr",
          "text": [
            "100%|██████████| 9.91M/9.91M [00:00<00:00, 52.6MB/s]\n",
            "100%|██████████| 28.9k/28.9k [00:00<00:00, 1.64MB/s]\n",
            "100%|██████████| 1.65M/1.65M [00:00<00:00, 13.1MB/s]\n",
            "100%|██████████| 4.54k/4.54k [00:00<00:00, 7.42MB/s]\n"
          ]
        }
      ]
    },
    {
      "cell_type": "code",
      "source": [
        "# Verify the DataLoaders for Task 1 and Task 2\n",
        "for images, labels in train_iter_task1:\n",
        "    print(f\"Task 1 - Batch size: {images.size(0)}, Labels: {labels[:10]}\")\n",
        "    break  # Check only the first batch\n",
        "\n",
        "for images, labels in train_iter_task2:\n",
        "    print(f\"Task 2 - Batch size: {images.size(0)}, Labels: {labels[:10]}\")\n",
        "    break  # Check only the first batch\n"
      ],
      "metadata": {
        "colab": {
          "base_uri": "https://localhost:8080/"
        },
        "id": "Vufh2wr4EaEz",
        "outputId": "3835431c-e481-4010-85d6-9535a20c26b5"
      },
      "execution_count": null,
      "outputs": [
        {
          "output_type": "stream",
          "name": "stdout",
          "text": [
            "Task 1 - Batch size: 100, Labels: tensor([4, 1, 1, 0, 1, 3, 1, 2, 3, 3])\n",
            "Task 2 - Batch size: 100, Labels: tensor([6, 9, 6, 9, 5, 6, 7, 9, 6, 9])\n"
          ]
        }
      ]
    },
    {
      "cell_type": "code",
      "source": [
        "\n",
        "# Define the neural network\n",
        "class SimpleNN(nn.Module):\n",
        "    def __init__(self, input_size=28*28, hidden_size=128, output_size=10):\n",
        "        super(SimpleNN, self).__init__()\n",
        "        self.fc1 = nn.Linear(input_size, hidden_size)\n",
        "        self.fc2 = nn.Linear(hidden_size, output_size)\n",
        "\n",
        "    def forward(self, x):\n",
        "        x = x.view(x.size(0), -1)  # Flatten the input\n",
        "        x = F.relu(self.fc1(x))\n",
        "        x = self.fc2(x)\n",
        "        return x\n"
      ],
      "metadata": {
        "id": "uvuGjFuRE45i"
      },
      "execution_count": null,
      "outputs": []
    },
    {
      "cell_type": "code",
      "source": [
        "# Checking for GPU availability and set device\n",
        "device = torch.device('cuda' if torch.cuda.is_available() else 'cpu')\n",
        "print(f\"Using device: {device}\")\n"
      ],
      "metadata": {
        "colab": {
          "base_uri": "https://localhost:8080/"
        },
        "id": "DosMi3nBF5oh",
        "outputId": "4e97cc26-19db-4ccc-cf42-2a1a7b0a36bf"
      },
      "execution_count": null,
      "outputs": [
        {
          "output_type": "stream",
          "name": "stdout",
          "text": [
            "Using device: cpu\n"
          ]
        }
      ]
    },
    {
      "cell_type": "code",
      "source": [
        "model = SimpleNN()\n",
        "model.to(device)\n"
      ],
      "metadata": {
        "colab": {
          "base_uri": "https://localhost:8080/"
        },
        "id": "pBqgvV7BF-SD",
        "outputId": "c6624b6b-92b3-48e9-d4eb-e8fcd53928a9"
      },
      "execution_count": null,
      "outputs": [
        {
          "output_type": "execute_result",
          "data": {
            "text/plain": [
              "SimpleNN(\n",
              "  (fc1): Linear(in_features=784, out_features=128, bias=True)\n",
              "  (fc2): Linear(in_features=128, out_features=10, bias=True)\n",
              ")"
            ]
          },
          "metadata": {},
          "execution_count": 43
        }
      ]
    },
    {
      "cell_type": "code",
      "source": [
        "def train_model(model, train_loader, optimizer, criterion, num_epochs=5):\n",
        "    model.train()  # Set the model to training mode\n",
        "    for epoch in range(num_epochs):\n",
        "        total_loss = 0\n",
        "        correct = 0\n",
        "        total = 0\n",
        "        for features, labels in train_loader:\n",
        "            features, labels = features.to(device), labels.to(device)\n",
        "\n",
        "            # Forward pass\n",
        "            outputs = model(features)\n",
        "            loss = criterion(outputs, labels)\n",
        "\n",
        "            # Backward pass and optimization\n",
        "            optimizer.zero_grad()\n",
        "            loss.backward()\n",
        "            optimizer.step()\n",
        "\n",
        "            # Accumulate metrics\n",
        "            total_loss += loss.item()\n",
        "            _, predicted = torch.max(outputs, 1)\n",
        "            correct += (predicted == labels).sum().item()\n",
        "            total += labels.size(0)\n",
        "\n",
        "\n",
        "        accuracy = correct / total\n",
        "        print(f\"Epoch [{epoch+1}/{num_epochs}], Loss: {total_loss:.4f}, Accuracy: {accuracy:.4f}\")\n"
      ],
      "metadata": {
        "id": "-B8vWt3DGCqN"
      },
      "execution_count": null,
      "outputs": []
    },
    {
      "cell_type": "markdown",
      "source": [
        "####### Hyperparameter tune"
      ],
      "metadata": {
        "id": "chcbbP2-Okif"
      }
    },
    {
      "cell_type": "code",
      "source": [
        "\n",
        "learning_rate = 0.00005\n",
        "num_epochs = 5\n",
        "\n",
        "# Loss function and optimizer\n",
        "criterion = nn.CrossEntropyLoss()\n",
        "optimizer = optim.Adam(model.parameters(), lr=learning_rate)\n"
      ],
      "metadata": {
        "id": "_-NsiVYMFiNR"
      },
      "execution_count": null,
      "outputs": []
    },
    {
      "cell_type": "markdown",
      "source": [
        "### Trainin on 1 task"
      ],
      "metadata": {
        "id": "naVgzi6mOsDV"
      }
    },
    {
      "cell_type": "code",
      "source": [
        "# Train on Task 1\n",
        "print(\"Training on Task 1...\")\n",
        "train_model(model, train_iter_task1, optimizer, criterion, num_epochs=num_epochs)\n"
      ],
      "metadata": {
        "colab": {
          "base_uri": "https://localhost:8080/"
        },
        "id": "93xNBnQsFi7g",
        "outputId": "f32c3c90-ab71-41f0-facb-8e4cd76654a1"
      },
      "execution_count": null,
      "outputs": [
        {
          "output_type": "stream",
          "name": "stdout",
          "text": [
            "Training on Task 1...\n",
            "Epoch [1/5], Loss: 258.7517, Accuracy: 0.8380\n",
            "Epoch [2/5], Loss: 80.7007, Accuracy: 0.9416\n",
            "Epoch [3/5], Loss: 56.7758, Accuracy: 0.9519\n",
            "Epoch [4/5], Loss: 47.3288, Accuracy: 0.9577\n",
            "Epoch [5/5], Loss: 42.1500, Accuracy: 0.9617\n"
          ]
        }
      ]
    },
    {
      "cell_type": "markdown",
      "source": [
        "## COMPUTING FISHER TECHNIQUE"
      ],
      "metadata": {
        "id": "c71K8KhcO7LM"
      }
    },
    {
      "cell_type": "code",
      "source": [
        "def compute_fisher_information(model, data_loader, criterion):\n",
        "\n",
        "    fisher_matrix = {}\n",
        "    model.eval()  # Set the model to evaluation mode\n",
        "\n",
        "    # Initialize Fisher matrix with zeros for each parameter\n",
        "    for name, param in model.named_parameters():\n",
        "        fisher_matrix[name] = torch.zeros_like(param, device=device)\n",
        "\n",
        "    print(\"Computing Fisher Information...\")  # Debug: Track progress\n",
        "    for batch_idx, (features, labels) in enumerate(data_loader):\n",
        "        features, labels = features.to(device), labels.to(device)\n",
        "\n",
        "        model.zero_grad()  # Reset gradients\n",
        "        outputs = model(features)\n",
        "        loss = criterion(outputs, labels)\n",
        "        loss.backward()  # Compute gradients\n",
        "\n",
        "        # Update Fisher matrix with squared gradients\n",
        "        for name, param in model.named_parameters():\n",
        "            if param.grad is not None:\n",
        "                fisher_matrix[name] += param.grad.pow(2) * len(labels)\n",
        "\n",
        "        # Debug: Print intermediate results for the first batch\n",
        "        if batch_idx == 0:\n",
        "            print(\"Debug - First Batch Gradients:\")\n",
        "            for name, param in model.named_parameters():\n",
        "                if param.grad is not None:\n",
        "                    print(f\"{name}: Grad Mean={param.grad.mean().item()}, Grad Std={param.grad.std().item()}\")\n",
        "\n",
        "    # Average Fisher values across all batches\n",
        "    for name in fisher_matrix:\n",
        "        fisher_matrix[name] /= len(data_loader.dataset)  # Normalize by dataset size\n",
        "\n",
        "        # Debug: Print summary statistics for Fisher values\n",
        "        print(f\"Fisher Matrix - {name}: Mean={fisher_matrix[name].mean().item()}, \"\n",
        "              f\"Std={fisher_matrix[name].std().item()}, \"\n",
        "              f\"Max={fisher_matrix[name].max().item()}, \"\n",
        "              f\"Min={fisher_matrix[name].min().item()}\")\n",
        "\n",
        "    return fisher_matrix\n"
      ],
      "metadata": {
        "id": "R6M76SWlLDql"
      },
      "execution_count": null,
      "outputs": []
    },
    {
      "cell_type": "code",
      "source": [
        "print(\"Computing Fisher Information for Task 1...\")\n",
        "fisher_matrix_task1 = compute_fisher_information(model, train_iter_task1, criterion)\n",
        "prev_params_task1 = {name: param.clone() for name, param in model.named_parameters()}\n",
        "print(\"Fisher Information computed.\")\n"
      ],
      "metadata": {
        "colab": {
          "base_uri": "https://localhost:8080/"
        },
        "id": "tVzyunZHGS72",
        "outputId": "92d682c2-a294-4617-cf69-968a9361623b"
      },
      "execution_count": null,
      "outputs": [
        {
          "output_type": "stream",
          "name": "stdout",
          "text": [
            "Computing Fisher Information for Task 1...\n",
            "Computing Fisher Information...\n",
            "Debug - First Batch Gradients:\n",
            "fc1.weight: Grad Mean=1.2104260349588003e-05, Grad Std=0.0012966817012056708\n",
            "fc1.bias: Grad Mean=-2.1475007088156417e-05, Grad Std=0.0012277872301638126\n",
            "fc2.weight: Grad Mean=-6.991399681410826e-10, Grad Std=0.012020401656627655\n",
            "fc2.bias: Grad Mean=-7.545167823863608e-10, Grad Std=0.005920010153204203\n",
            "Fisher Matrix - fc1.weight: Mean=2.3680247522861464e-06, Std=1.5529284382864716e-06, Max=9.267662790080067e-06, Min=0.0\n",
            "Fisher Matrix - fc1.bias: Mean=2.5721210477058776e-06, Std=1.6827787021611584e-06, Max=8.720295227249153e-06, Min=0.0\n",
            "Fisher Matrix - fc2.weight: Mean=0.00023909550509415567, Std=0.00042952026706188917, Max=0.004196864552795887, Min=0.0\n",
            "Fisher Matrix - fc2.bias: Mean=6.049380681361072e-05, Std=7.70705082686618e-05, Max=0.00021167237719055265, Min=1.3915341101622403e-10\n",
            "Fisher Information computed.\n"
          ]
        }
      ]
    },
    {
      "cell_type": "code",
      "source": [
        "def ewc_loss(model, fisher_matrix, prev_params, ewc_lambda):\n",
        "    loss = 0\n",
        "    for name, param in model.named_parameters():\n",
        "        if name in fisher_matrix:\n",
        "            loss += (fisher_matrix[name] * (param - prev_params[name]).pow(2)).sum()\n",
        "    return ewc_lambda * loss\n"
      ],
      "metadata": {
        "id": "mNysPOllGVnO"
      },
      "execution_count": null,
      "outputs": []
    },
    {
      "cell_type": "code",
      "source": [
        "def train_with_ewc(model, train_loader, optimizer, criterion, fisher_matrix, prev_params, ewc_lambda, num_epochs=5):\n",
        "    model.train()\n",
        "    for epoch in range(num_epochs):\n",
        "        total_loss = 0\n",
        "        correct = 0\n",
        "        total = 0\n",
        "        for features, labels in train_loader:\n",
        "            features, labels = features.to(device), labels.to(device)\n",
        "\n",
        "            # Forward pass\n",
        "            outputs = model(features)\n",
        "            task_loss = criterion(outputs, labels)\n",
        "\n",
        "            #  EWC loss\n",
        "            reg_loss = ewc_loss(model, fisher_matrix, prev_params, ewc_lambda)\n",
        "            loss = task_loss + reg_loss\n",
        "\n",
        "            # Backward pass and optimization\n",
        "            optimizer.zero_grad()\n",
        "            loss.backward()\n",
        "            optimizer.step()\n",
        "\n",
        "            # Accumulate metrics\n",
        "            total_loss += loss.item()\n",
        "            _, predicted = torch.max(outputs, 1)\n",
        "            correct += (predicted == labels).sum().item()\n",
        "            total += labels.size(0)\n",
        "\n",
        "      # Print epoch results\n",
        "        accuracy = correct / total\n",
        "        print(f\"Epoch [{epoch+1}/{num_epochs}], Loss: {total_loss:.4f}, Accuracy: {accuracy:.4f}\")\n"
      ],
      "metadata": {
        "id": "tbAdpmkYGYrP"
      },
      "execution_count": null,
      "outputs": []
    },
    {
      "cell_type": "markdown",
      "source": [
        "### Training on task 2 with EWC"
      ],
      "metadata": {
        "id": "IuBZqbwtPNQm"
      }
    },
    {
      "cell_type": "code",
      "source": [
        "print(\"Training on Task 2 with EWC...\")\n",
        "\n",
        "\n",
        "ewc_lambda = 1000000\n",
        "\n",
        "\n",
        "optimizer = torch.optim.SGD(model.parameters(), lr=0.00005)\n",
        "\n",
        "def train_with_ewc_and_logging(\n",
        "    model, train_loader, prev_params, fisher_matrix, optimizer, criterion,\n",
        "    ewc_lambda, num_epochs):\n",
        "    model.train()\n",
        "    for epoch in range(num_epochs):\n",
        "        total_loss, ewc_loss_value, task_loss_value = 0, 0, 0\n",
        "        correct, total = 0, 0\n",
        "\n",
        "        for features, labels in train_loader:\n",
        "            features, labels = features.to(device), labels.to(device)\n",
        "\n",
        "            # Forward pass\n",
        "            outputs = model(features)\n",
        "            task_loss = criterion(outputs, labels)\n",
        "\n",
        "            # Computing EWC loss\n",
        "            ewc_loss = 0\n",
        "            for name, param in model.named_parameters():\n",
        "                if name in fisher_matrix:\n",
        "                    fisher = fisher_matrix[name]\n",
        "                    prev_param = prev_params[name]\n",
        "                    ewc_loss += torch.sum(fisher * (param - prev_param).pow(2))\n",
        "\n",
        "            # Total loss\n",
        "            loss = task_loss + ewc_lambda * ewc_loss\n",
        "\n",
        "            # Backward pass and optimization\n",
        "            optimizer.zero_grad()\n",
        "            loss.backward()\n",
        "            optimizer.step()\n",
        "\n",
        "            # Accumulate metrics\n",
        "            total_loss += loss.item()\n",
        "            ewc_loss_value += ewc_loss.item()\n",
        "            task_loss_value += task_loss.item()\n",
        "            _, predicted = outputs.max(1)\n",
        "            total += labels.size(0)\n",
        "            correct += (predicted == labels).sum().item()\n",
        "\n",
        "\n",
        "        accuracy = correct / total\n",
        "        print(\n",
        "            f\"Epoch [{epoch + 1}/{num_epochs}], \"\n",
        "            f\"Total Loss: {total_loss:.4f}, Task Loss: {task_loss_value:.4f}, \"\n",
        "            f\"EWC Loss: {ewc_loss_value:.4f}, Accuracy: {accuracy:.4f}\"\n",
        "        )\n",
        "\n",
        "\n",
        "train_with_ewc_and_logging(\n",
        "    model, train_iter_task2, prev_params_task1, fisher_matrix_task1,\n",
        "    optimizer, criterion, ewc_lambda, num_epochs=num_epochs\n",
        ")\n"
      ],
      "metadata": {
        "colab": {
          "base_uri": "https://localhost:8080/"
        },
        "id": "p-dYnOXbNFTT",
        "outputId": "23cf4e94-b79e-43af-f45c-9dfe0d7f8126"
      },
      "execution_count": null,
      "outputs": [
        {
          "output_type": "stream",
          "name": "stdout",
          "text": [
            "Training on Task 2 with EWC...\n",
            "Epoch [1/5], Total Loss: 4028.0728, Task Loss: 2214.9615, EWC Loss: 0.0018, Accuracy: 0.0000\n",
            "Epoch [2/5], Total Loss: 11902.1564, Task Loss: 1269.1366, EWC Loss: 0.0106, Accuracy: 0.0006\n",
            "Epoch [3/5], Total Loss: 22520.4428, Task Loss: 740.4959, EWC Loss: 0.0218, Accuracy: 0.0721\n",
            "Epoch [4/5], Total Loss: 30347.1897, Task Loss: 545.6586, EWC Loss: 0.0298, Accuracy: 0.2504\n",
            "Epoch [5/5], Total Loss: 35411.5105, Task Loss: 471.7372, EWC Loss: 0.0349, Accuracy: 0.4102\n"
          ]
        }
      ]
    },
    {
      "cell_type": "code",
      "source": [
        "def evaluate(model, data_loader):\n",
        "    model.eval()\n",
        "    correct = 0\n",
        "    total = 0\n",
        "    with torch.no_grad():\n",
        "        for features, labels in data_loader:\n",
        "            features, labels = features.to(device), labels.to(device)\n",
        "            outputs = model(features)\n",
        "            _, predicted = torch.max(outputs, 1)\n",
        "            correct += (predicted == labels).sum().item()\n",
        "            total += labels.size(0)\n",
        "    return correct / total\n"
      ],
      "metadata": {
        "id": "jine5kgUGdef"
      },
      "execution_count": null,
      "outputs": []
    },
    {
      "cell_type": "code",
      "source": [
        "print(\"Evaluating on Task 1...\")\n",
        "accuracy_task1 = evaluate(model, train_iter_task1)\n",
        "print(f\"Accuracy on Task 1: {accuracy_task1:.4f}\")\n",
        "\n",
        "print(\"Evaluating on Task 2...\")\n",
        "accuracy_task2 = evaluate(model, train_iter_task2)\n",
        "print(f\"Accuracy on Task 2: {accuracy_task2:.4f}\")\n"
      ],
      "metadata": {
        "colab": {
          "base_uri": "https://localhost:8080/"
        },
        "id": "OYkUZxn_GuLy",
        "outputId": "706922f7-704c-47f0-eb3a-51a8870f3731"
      },
      "execution_count": null,
      "outputs": [
        {
          "output_type": "stream",
          "name": "stdout",
          "text": [
            "Evaluating on Task 1...\n",
            "Accuracy on Task 1: 0.7484\n",
            "Evaluating on Task 2...\n",
            "Accuracy on Task 2: 0.4618\n"
          ]
        }
      ]
    },
    {
      "cell_type": "code",
      "source": [],
      "metadata": {
        "id": "WTPiX9oHKci7"
      },
      "execution_count": null,
      "outputs": []
    }
  ],
  "metadata": {
    "colab": {
      "provenance": [],
      "authorship_tag": "ABX9TyOGZIT8bWsNrEmarCl9VFc5",
      "include_colab_link": true
    },
    "kernelspec": {
      "display_name": "Python 3",
      "name": "python3"
    },
    "language_info": {
      "name": "python"
    }
  },
  "nbformat": 4,
  "nbformat_minor": 0
}